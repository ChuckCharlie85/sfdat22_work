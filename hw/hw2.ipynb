{
 "cells": [
  {
   "cell_type": "code",
   "execution_count": 1,
   "metadata": {
    "collapsed": false
   },
   "outputs": [],
   "source": [
    "import tweepy       # python wrapper for twitter api\n",
    "import json\n",
    "import time\n",
    "import requests\n",
    "# step 0, get your own twitter credentials!"
   ]
  },
  {
   "cell_type": "code",
   "execution_count": 2,
   "metadata": {
    "collapsed": false
   },
   "outputs": [],
   "source": [
    "# this is my own personal twitter api information\n",
    "# if you could be so kind as to sign up yourself on both twitter and mashape that'd be great :)\n",
    "# It's FREEEEEEE\n",
    "api_key = 'g5uPIpw80nULQI1gfklv2zrh4'\n",
    "api_secret = 'cOWvNWxYvPmEZ0ArZVeeVVvJu41QYHdUS2GpqIKtSQ1isd5PJy'\n",
    "access_token = '49722956-TWl8J0aAS6KTdcbz3ppZ7NfqZEmrwmbsb9cYPNELG'\n",
    "access_secret = '3eqrVssF3ppv23qyflyAto8wLEiYRA8sXEPSghuOJWTub'"
   ]
  },
  {
   "cell_type": "code",
   "execution_count": 3,
   "metadata": {
    "collapsed": false
   },
   "outputs": [],
   "source": [
    "# Documentation is your friend! http://docs.tweepy.org/en/v3.1.0/\n",
    "auth = tweepy.OAuthHandler(api_key, api_secret)\n",
    "auth.set_access_token(access_token, access_secret)\n",
    "api = tweepy.API(auth) # returns a tweepy authorization handler object"
   ]
  },
  {
   "cell_type": "code",
   "execution_count": 4,
   "metadata": {
    "collapsed": false
   },
   "outputs": [],
   "source": [
    "# 1. Use Twitter API to stream and store tweets (300 per candidate)\n",
    "# explain geocode is doing\n",
    "bernie_tweets =  api.search(q=\"#berniesanders\", count=100, geocode=\"37.781157,-122.398720,50mi\") + api.search(q='#bernie', count=100, geocode=\"37.781157,-122.398720,50mi\") + api.search(q='#FeelTheBern', count=100, geocode=\"37.781157,-122.398720,50mi\")\n",
    "hilary_tweets = api.search(q='#ImWithHer', count=100, geocode=\"37.781157,-122.398720,50mi\") + api.search(q='#hillaryclinton', count=100, geocode=\"37.781157,-122.398720,50mi\") + api.search(q='#hillary2016', count=100, geocode=\"37.781157,-122.398720,50mi\")\n",
    "the_donald_tweets = api.search(q='#donaldtrump', count=100, geocode=\"37.781157,-122.398720,50mi\") + api.search(q='#trump2016', count=100, geocode=\"37.781157,-122.398720,50mi\") + api.search(q='#trump', count=100, geocode=\"37.781157,-122.398720,50mi\") + api.search(q='#makeamericagreatagain', count=100, geocode=\"37.781157,-122.398720,50mi\")"
   ]
  },
  {
   "cell_type": "code",
   "execution_count": 5,
   "metadata": {
    "collapsed": false
   },
   "outputs": [
    {
     "data": {
      "text/plain": [
       "Status(contributors=None, truncated=False, text=u'@realDonaldTrump #trump2016 #DonaldTrump #HillaryClinton #presidentialcandidates https://t.co/7Glia4WlVk', is_quote_status=False, in_reply_to_status_id=None, id=733547271925596160, favorite_count=0, _api=<tweepy.api.API object at 0x104297ed0>, author=User(follow_request_sent=False, has_extended_profile=True, profile_use_background_image=True, _json={u'follow_request_sent': False, u'has_extended_profile': True, u'profile_use_background_image': True, u'default_profile_image': False, u'id': 3023150808, u'profile_background_image_url_https': u'https://abs.twimg.com/images/themes/theme1/bg.png', u'verified': False, u'profile_text_color': u'333333', u'profile_image_url_https': u'https://pbs.twimg.com/profile_images/723335627148693504/SsyKV6Zs_normal.jpg', u'profile_sidebar_fill_color': u'DDEEF6', u'entities': {u'description': {u'urls': []}}, u'followers_count': 1, u'profile_sidebar_border_color': u'C0DEED', u'id_str': u'3023150808', u'profile_background_color': u'C0DEED', u'listed_count': 0, u'is_translation_enabled': False, u'utc_offset': None, u'statuses_count': 2, u'description': u'Georgia is where my roots are but California is my home. A winner never quits and a quitter never wins. Strive for greatness. Take the pain.', u'friends_count': 51, u'location': u'Santa Rosa, CA', u'profile_link_color': u'0084B4', u'profile_image_url': u'http://pbs.twimg.com/profile_images/723335627148693504/SsyKV6Zs_normal.jpg', u'following': False, u'geo_enabled': False, u'profile_banner_url': u'https://pbs.twimg.com/profile_banners/3023150808/1461291626', u'profile_background_image_url': u'http://abs.twimg.com/images/themes/theme1/bg.png', u'screen_name': u'oleclevertrevor', u'lang': u'en', u'profile_background_tile': False, u'favourites_count': 1, u'name': u'Trevor', u'notifications': False, u'url': None, u'created_at': u'Tue Feb 17 02:42:13 +0000 2015', u'contributors_enabled': False, u'time_zone': None, u'protected': False, u'default_profile': True, u'is_translator': False}, time_zone=None, id=3023150808, _api=<tweepy.api.API object at 0x104297ed0>, verified=False, profile_text_color=u'333333', profile_image_url_https=u'https://pbs.twimg.com/profile_images/723335627148693504/SsyKV6Zs_normal.jpg', profile_sidebar_fill_color=u'DDEEF6', is_translator=False, geo_enabled=False, entities={u'description': {u'urls': []}}, followers_count=1, protected=False, id_str=u'3023150808', default_profile_image=False, listed_count=0, lang=u'en', utc_offset=None, statuses_count=2, description=u'Georgia is where my roots are but California is my home. A winner never quits and a quitter never wins. Strive for greatness. Take the pain.', friends_count=51, profile_link_color=u'0084B4', profile_image_url=u'http://pbs.twimg.com/profile_images/723335627148693504/SsyKV6Zs_normal.jpg', notifications=False, profile_background_image_url_https=u'https://abs.twimg.com/images/themes/theme1/bg.png', profile_background_color=u'C0DEED', profile_banner_url=u'https://pbs.twimg.com/profile_banners/3023150808/1461291626', profile_background_image_url=u'http://abs.twimg.com/images/themes/theme1/bg.png', name=u'Trevor', is_translation_enabled=False, profile_background_tile=False, favourites_count=1, screen_name=u'oleclevertrevor', url=None, created_at=datetime.datetime(2015, 2, 17, 2, 42, 13), contributors_enabled=False, location=u'Santa Rosa, CA', profile_sidebar_border_color=u'C0DEED', default_profile=True, following=False), _json={u'contributors': None, u'truncated': False, u'text': u'@realDonaldTrump #trump2016 #DonaldTrump #HillaryClinton #presidentialcandidates https://t.co/7Glia4WlVk', u'is_quote_status': False, u'in_reply_to_status_id': None, u'id': 733547271925596160, u'favorite_count': 0, u'entities': {u'symbols': [], u'user_mentions': [{u'id': 25073877, u'indices': [0, 16], u'id_str': u'25073877', u'screen_name': u'realDonaldTrump', u'name': u'Donald J. Trump'}], u'hashtags': [{u'indices': [17, 27], u'text': u'trump2016'}, {u'indices': [28, 40], u'text': u'DonaldTrump'}, {u'indices': [41, 56], u'text': u'HillaryClinton'}, {u'indices': [57, 80], u'text': u'presidentialcandidates'}], u'urls': [], u'media': [{u'expanded_url': u'http://twitter.com/oleclevertrevor/status/733547271925596160/photo/1', u'display_url': u'pic.twitter.com/7Glia4WlVk', u'url': u'https://t.co/7Glia4WlVk', u'media_url_https': u'https://pbs.twimg.com/media/Ci4VWz9UkAALLBv.jpg', u'id_str': u'733547270956683264', u'sizes': {u'large': {u'h': 429, u'resize': u'fit', u'w': 600}, u'small': {u'h': 243, u'resize': u'fit', u'w': 340}, u'medium': {u'h': 429, u'resize': u'fit', u'w': 600}, u'thumb': {u'h': 150, u'resize': u'crop', u'w': 150}}, u'indices': [81, 104], u'type': u'photo', u'id': 733547270956683264, u'media_url': u'http://pbs.twimg.com/media/Ci4VWz9UkAALLBv.jpg'}]}, u'retweeted': False, u'coordinates': None, u'source': u'<a href=\"http://twitter.com/download/android\" rel=\"nofollow\">Twitter for Android</a>', u'in_reply_to_screen_name': u'realDonaldTrump', u'in_reply_to_user_id': 25073877, u'retweet_count': 0, u'id_str': u'733547271925596160', u'favorited': False, u'user': {u'follow_request_sent': False, u'has_extended_profile': True, u'profile_use_background_image': True, u'default_profile_image': False, u'id': 3023150808, u'profile_background_image_url_https': u'https://abs.twimg.com/images/themes/theme1/bg.png', u'verified': False, u'profile_text_color': u'333333', u'profile_image_url_https': u'https://pbs.twimg.com/profile_images/723335627148693504/SsyKV6Zs_normal.jpg', u'profile_sidebar_fill_color': u'DDEEF6', u'entities': {u'description': {u'urls': []}}, u'followers_count': 1, u'profile_sidebar_border_color': u'C0DEED', u'id_str': u'3023150808', u'profile_background_color': u'C0DEED', u'listed_count': 0, u'is_translation_enabled': False, u'utc_offset': None, u'statuses_count': 2, u'description': u'Georgia is where my roots are but California is my home. A winner never quits and a quitter never wins. Strive for greatness. Take the pain.', u'friends_count': 51, u'location': u'Santa Rosa, CA', u'profile_link_color': u'0084B4', u'profile_image_url': u'http://pbs.twimg.com/profile_images/723335627148693504/SsyKV6Zs_normal.jpg', u'following': False, u'geo_enabled': False, u'profile_banner_url': u'https://pbs.twimg.com/profile_banners/3023150808/1461291626', u'profile_background_image_url': u'http://abs.twimg.com/images/themes/theme1/bg.png', u'screen_name': u'oleclevertrevor', u'lang': u'en', u'profile_background_tile': False, u'favourites_count': 1, u'name': u'Trevor', u'notifications': False, u'url': None, u'created_at': u'Tue Feb 17 02:42:13 +0000 2015', u'contributors_enabled': False, u'time_zone': None, u'protected': False, u'default_profile': True, u'is_translator': False}, u'geo': None, u'in_reply_to_user_id_str': u'25073877', u'possibly_sensitive': False, u'lang': u'und', u'created_at': u'Fri May 20 06:37:52 +0000 2016', u'in_reply_to_status_id_str': None, u'place': None, u'metadata': {u'iso_language_code': u'und', u'result_type': u'recent'}}, coordinates=None, entities={u'symbols': [], u'user_mentions': [{u'id': 25073877, u'indices': [0, 16], u'id_str': u'25073877', u'screen_name': u'realDonaldTrump', u'name': u'Donald J. Trump'}], u'hashtags': [{u'indices': [17, 27], u'text': u'trump2016'}, {u'indices': [28, 40], u'text': u'DonaldTrump'}, {u'indices': [41, 56], u'text': u'HillaryClinton'}, {u'indices': [57, 80], u'text': u'presidentialcandidates'}], u'urls': [], u'media': [{u'expanded_url': u'http://twitter.com/oleclevertrevor/status/733547271925596160/photo/1', u'display_url': u'pic.twitter.com/7Glia4WlVk', u'url': u'https://t.co/7Glia4WlVk', u'media_url_https': u'https://pbs.twimg.com/media/Ci4VWz9UkAALLBv.jpg', u'id_str': u'733547270956683264', u'sizes': {u'large': {u'h': 429, u'resize': u'fit', u'w': 600}, u'small': {u'h': 243, u'resize': u'fit', u'w': 340}, u'medium': {u'h': 429, u'resize': u'fit', u'w': 600}, u'thumb': {u'h': 150, u'resize': u'crop', u'w': 150}}, u'indices': [81, 104], u'type': u'photo', u'id': 733547270956683264, u'media_url': u'http://pbs.twimg.com/media/Ci4VWz9UkAALLBv.jpg'}]}, in_reply_to_screen_name=u'realDonaldTrump', id_str=u'733547271925596160', retweet_count=0, in_reply_to_user_id=25073877, favorited=False, source_url=u'http://twitter.com/download/android', user=User(follow_request_sent=False, has_extended_profile=True, profile_use_background_image=True, _json={u'follow_request_sent': False, u'has_extended_profile': True, u'profile_use_background_image': True, u'default_profile_image': False, u'id': 3023150808, u'profile_background_image_url_https': u'https://abs.twimg.com/images/themes/theme1/bg.png', u'verified': False, u'profile_text_color': u'333333', u'profile_image_url_https': u'https://pbs.twimg.com/profile_images/723335627148693504/SsyKV6Zs_normal.jpg', u'profile_sidebar_fill_color': u'DDEEF6', u'entities': {u'description': {u'urls': []}}, u'followers_count': 1, u'profile_sidebar_border_color': u'C0DEED', u'id_str': u'3023150808', u'profile_background_color': u'C0DEED', u'listed_count': 0, u'is_translation_enabled': False, u'utc_offset': None, u'statuses_count': 2, u'description': u'Georgia is where my roots are but California is my home. A winner never quits and a quitter never wins. Strive for greatness. Take the pain.', u'friends_count': 51, u'location': u'Santa Rosa, CA', u'profile_link_color': u'0084B4', u'profile_image_url': u'http://pbs.twimg.com/profile_images/723335627148693504/SsyKV6Zs_normal.jpg', u'following': False, u'geo_enabled': False, u'profile_banner_url': u'https://pbs.twimg.com/profile_banners/3023150808/1461291626', u'profile_background_image_url': u'http://abs.twimg.com/images/themes/theme1/bg.png', u'screen_name': u'oleclevertrevor', u'lang': u'en', u'profile_background_tile': False, u'favourites_count': 1, u'name': u'Trevor', u'notifications': False, u'url': None, u'created_at': u'Tue Feb 17 02:42:13 +0000 2015', u'contributors_enabled': False, u'time_zone': None, u'protected': False, u'default_profile': True, u'is_translator': False}, time_zone=None, id=3023150808, _api=<tweepy.api.API object at 0x104297ed0>, verified=False, profile_text_color=u'333333', profile_image_url_https=u'https://pbs.twimg.com/profile_images/723335627148693504/SsyKV6Zs_normal.jpg', profile_sidebar_fill_color=u'DDEEF6', is_translator=False, geo_enabled=False, entities={u'description': {u'urls': []}}, followers_count=1, protected=False, id_str=u'3023150808', default_profile_image=False, listed_count=0, lang=u'en', utc_offset=None, statuses_count=2, description=u'Georgia is where my roots are but California is my home. A winner never quits and a quitter never wins. Strive for greatness. Take the pain.', friends_count=51, profile_link_color=u'0084B4', profile_image_url=u'http://pbs.twimg.com/profile_images/723335627148693504/SsyKV6Zs_normal.jpg', notifications=False, profile_background_image_url_https=u'https://abs.twimg.com/images/themes/theme1/bg.png', profile_background_color=u'C0DEED', profile_banner_url=u'https://pbs.twimg.com/profile_banners/3023150808/1461291626', profile_background_image_url=u'http://abs.twimg.com/images/themes/theme1/bg.png', name=u'Trevor', is_translation_enabled=False, profile_background_tile=False, favourites_count=1, screen_name=u'oleclevertrevor', url=None, created_at=datetime.datetime(2015, 2, 17, 2, 42, 13), contributors_enabled=False, location=u'Santa Rosa, CA', profile_sidebar_border_color=u'C0DEED', default_profile=True, following=False), geo=None, in_reply_to_user_id_str=u'25073877', possibly_sensitive=False, lang=u'und', created_at=datetime.datetime(2016, 5, 20, 6, 37, 52), in_reply_to_status_id_str=None, place=None, source=u'Twitter for Android', retweeted=False, metadata={u'iso_language_code': u'und', u'result_type': u'recent'})"
      ]
     },
     "execution_count": 5,
     "metadata": {},
     "output_type": "execute_result"
    }
   ],
   "source": [
    "the_donald_tweets[0]"
   ]
  },
  {
   "cell_type": "code",
   "execution_count": 6,
   "metadata": {
    "collapsed": false
   },
   "outputs": [
    {
     "name": "stdout",
     "output_type": "stream",
     "text": [
      "['__class__', '__delattr__', '__dict__', '__doc__', '__eq__', '__format__', '__getattribute__', '__getstate__', '__hash__', '__init__', '__module__', '__ne__', '__new__', '__reduce__', '__reduce_ex__', '__repr__', '__setattr__', '__sizeof__', '__str__', '__subclasshook__', '__weakref__', '_api', '_json', 'author', 'contributors', 'coordinates', 'created_at', 'destroy', 'entities', 'favorite', 'favorite_count', 'favorited', 'geo', 'id', 'id_str', 'in_reply_to_screen_name', 'in_reply_to_status_id', 'in_reply_to_status_id_str', 'in_reply_to_user_id', 'in_reply_to_user_id_str', 'is_quote_status', 'lang', 'metadata', 'parse', 'parse_list', 'place', 'possibly_sensitive', 'retweet', 'retweet_count', 'retweeted', 'retweets', 'source', 'source_url', 'text', 'truncated', 'user']\n"
     ]
    }
   ],
   "source": [
    "# wrappers come with built in python attributes and methods!\n",
    "print dir(the_donald_tweets[0])"
   ]
  },
  {
   "cell_type": "code",
   "execution_count": 7,
   "metadata": {
    "collapsed": false
   },
   "outputs": [
    {
     "name": "stdout",
     "output_type": "stream",
     "text": [
      "2016-05-20 06:37:52\n",
      "@realDonaldTrump #trump2016 #DonaldTrump #HillaryClinton #presidentialcandidates https://t.co/7Glia4WlVk\n",
      "0\n",
      "False\n",
      "und\n",
      "None\n",
      "0\n",
      "False\n",
      "False\n",
      "None\n"
     ]
    }
   ],
   "source": [
    "print the_donald_tweets[0].created_at\n",
    "print the_donald_tweets[0].text\n",
    "print the_donald_tweets[0].favorite_count\n",
    "print the_donald_tweets[0].favorited\n",
    "print the_donald_tweets[0].lang\n",
    "print the_donald_tweets[0].geo\n",
    "print the_donald_tweets[0].retweet_count\n",
    "print the_donald_tweets[0].retweeted\n",
    "print the_donald_tweets[0].possibly_sensitive\n",
    "print the_donald_tweets[0].coordinates"
   ]
  },
  {
   "cell_type": "code",
   "execution_count": 8,
   "metadata": {
    "collapsed": false
   },
   "outputs": [],
   "source": [
    "def parse_status_objects(tweet_list):\n",
    "    modified_tweets = list()\n",
    "    for x in tweet_list:\n",
    "        modified_tweets.append( [\n",
    "                    x.created_at,\n",
    "                    x.text,\n",
    "                    x.favorite_count,\n",
    "                    x.favorited,\n",
    "                    x.lang,\n",
    "                    x.geo,\n",
    "                    x.retweet_count,\n",
    "                    x.retweeted,\n",
    "                    x.coordinates\n",
    "                ])\n",
    "    return modified_tweets\n",
    "        \n",
    "hilary_tweets = parse_status_objects(hilary_tweets)\n",
    "the_donald_tweets = parse_status_objects(the_donald_tweets)\n",
    "bernie_tweets = parse_status_objects(bernie_tweets)"
   ]
  },
  {
   "cell_type": "code",
   "execution_count": 9,
   "metadata": {
    "collapsed": false
   },
   "outputs": [
    {
     "name": "stdout",
     "output_type": "stream",
     "text": [
      "[datetime.datetime(2016, 5, 20, 6, 35, 50), u'RT @kierobar: #Bernie #berniesanders #Bernie2016 #California #CaliforniaPrimary #FeelTheBern #BerntoRun #NJprimary #BernieLoveWave https://\\u2026', 0, False, u'und', None, 2, False, None]\n",
      "[datetime.datetime(2016, 5, 20, 6, 37, 52), u'@realDonaldTrump #trump2016 #DonaldTrump #HillaryClinton #presidentialcandidates https://t.co/7Glia4WlVk', 0, False, u'und', None, 0, False, None]\n",
      "[datetime.datetime(2016, 5, 20, 6, 31, 37), u\"RT @Melomelly2: Don't forget to..... #VoteBlue #ImWithHer #HillYes #Hillary2016 #HRC4CA https://t.co/dTUE4IiGYI\", 0, False, u'en', None, 2, False, None]\n"
     ]
    }
   ],
   "source": [
    "print bernie_tweets[0]\n",
    "print the_donald_tweets[0]\n",
    "print hilary_tweets[0]"
   ]
  },
  {
   "cell_type": "code",
   "execution_count": null,
   "metadata": {
    "collapsed": true
   },
   "outputs": [],
   "source": [
    "# 2 Create a dataframe that combines all of the tweets from each candidate\n",
    "# To do so, you will need to concat the data frames\n",
    "# so each row is a tweet and your columns should be \n",
    "# date, text, favorite_count,favorited, language, geocode, rwtweet count, retweeted, coordinates"
   ]
  },
  {
   "cell_type": "code",
   "execution_count": null,
   "metadata": {
    "collapsed": true
   },
   "outputs": [],
   "source": [
    "# 3 Create a function to take in a string and output the textblob sentiment of that string"
   ]
  },
  {
   "cell_type": "code",
   "execution_count": null,
   "metadata": {
    "collapsed": true
   },
   "outputs": [],
   "source": [
    "# 4 Add a column to your data frame called 'sentiment' which holds the sentiment of that tweet (hint: use the function from #3)"
   ]
  },
  {
   "cell_type": "code",
   "execution_count": null,
   "metadata": {
    "collapsed": true
   },
   "outputs": [],
   "source": [
    "# 5 create a word count column, which holds the number of words in the text column"
   ]
  },
  {
   "cell_type": "code",
   "execution_count": null,
   "metadata": {
    "collapsed": true
   },
   "outputs": [],
   "source": [
    "# use countvectorizer to create a document-term matrix and concatinate it to your main dataframe\n",
    "#(hint you should now have thousands of columns)"
   ]
  },
  {
   "cell_type": "code",
   "execution_count": null,
   "metadata": {
    "collapsed": true
   },
   "outputs": [],
   "source": [
    "# 6 Use kmean to create clusters for the dataframe"
   ]
  },
  {
   "cell_type": "code",
   "execution_count": null,
   "metadata": {
    "collapsed": true
   },
   "outputs": [],
   "source": [
    "# 7 Explore the clusters\n",
    "# What is interesting? Surprising? Can you draw any inferences about each cluster?\n",
    "# Write your answer to these questions in markdown"
   ]
  },
  {
   "cell_type": "code",
   "execution_count": null,
   "metadata": {
    "collapsed": true
   },
   "outputs": [],
   "source": [
    "# 8 Create a column called 'democrat' and assign it to the corresponding candidate name for all the records\n",
    "# 1 for bernie and hilary and 0 for donald trump"
   ]
  },
  {
   "cell_type": "code",
   "execution_count": null,
   "metadata": {
    "collapsed": true
   },
   "outputs": [],
   "source": [
    "# 9 Estimate classification models using knn and logistic regession.  Dont forget to use cross validation \n",
    "    # (do not use cross_val_score because we will want a confusion matrix).\n",
    "# Use a three class response variable for knn.  For logistic regression predict democrat or republic?\n",
    "#Assess the pros and cons of both approaches\n",
    "#Extra Credit: Estimate multinomial regression model using the three class response variable"
   ]
  },
  {
   "cell_type": "code",
   "execution_count": null,
   "metadata": {
    "collapsed": true
   },
   "outputs": [],
   "source": [
    "# 10 Initialize a classification model (for both knn and logistic)"
   ]
  },
  {
   "cell_type": "code",
   "execution_count": null,
   "metadata": {
    "collapsed": true
   },
   "outputs": [],
   "source": [
    "# 11 Train your classification model  (for both knn and logistic)"
   ]
  },
  {
   "cell_type": "code",
   "execution_count": null,
   "metadata": {
    "collapsed": true
   },
   "outputs": [],
   "source": [
    "# 12 Predict on your test features and targets (for both knn and logistic)"
   ]
  },
  {
   "cell_type": "code",
   "execution_count": null,
   "metadata": {
    "collapsed": true
   },
   "outputs": [],
   "source": [
    "# 13 output your accuracy (for both knn and logistic)"
   ]
  },
  {
   "cell_type": "code",
   "execution_count": null,
   "metadata": {
    "collapsed": true
   },
   "outputs": [],
   "source": [
    "# 14 Create a confusion matrix for your predictions (for both knn and logistic)"
   ]
  },
  {
   "cell_type": "code",
   "execution_count": null,
   "metadata": {
    "collapsed": true
   },
   "outputs": [],
   "source": [
    "# 15 Who is the easiest candidate to predict? Why do you think? Who is the hardest? Why do you think?\n",
    "# Write your answers in markdown (for both knn and logistic)"
   ]
  },
  {
   "cell_type": "code",
   "execution_count": null,
   "metadata": {
    "collapsed": true
   },
   "outputs": [],
   "source": [
    "# 16 What are some extra features (data points) you would like to add to this data set. Explain in markdown.\n",
    "# (hint maybe something like a boolean, \"has_hashtag\")"
   ]
  },
  {
   "cell_type": "code",
   "execution_count": null,
   "metadata": {
    "collapsed": true
   },
   "outputs": [],
   "source": [
    "# 17 Try adding extra features to improve the quality of your predictions (for both knn and logistic)"
   ]
  }
 ],
 "metadata": {
  "kernelspec": {
   "display_name": "Python 2",
   "language": "python",
   "name": "python2"
  },
  "language_info": {
   "codemirror_mode": {
    "name": "ipython",
    "version": 2
   },
   "file_extension": ".py",
   "mimetype": "text/x-python",
   "name": "python",
   "nbconvert_exporter": "python",
   "pygments_lexer": "ipython2",
   "version": "2.7.11"
  }
 },
 "nbformat": 4,
 "nbformat_minor": 0
}
