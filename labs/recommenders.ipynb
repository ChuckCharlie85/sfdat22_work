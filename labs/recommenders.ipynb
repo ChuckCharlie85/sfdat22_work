{
 "cells": [
  {
   "cell_type": "code",
   "execution_count": null,
   "metadata": {
    "collapsed": false
   },
   "outputs": [],
   "source": [
    "\n",
    "# \"\"\"\n",
    "# Class 15: Recommendation Engines\n",
    "# Content based and Collaborative based filtering\n",
    "# Jaccard Similarity\n",
    "# Modified KNN Algorithm\n",
    "# \"\"\"\n"
   ]
  },
  {
   "cell_type": "code",
   "execution_count": null,
   "metadata": {
    "collapsed": true
   },
   "outputs": [],
   "source": [
    "########################################\n",
    "## Collaborative-Based User Filtering ##\n",
    "########################################"
   ]
  },
  {
   "cell_type": "code",
   "execution_count": 20,
   "metadata": {
    "collapsed": true
   },
   "outputs": [],
   "source": [
    "import pandas as pd"
   ]
  },
  {
   "cell_type": "code",
   "execution_count": 21,
   "metadata": {
    "collapsed": false
   },
   "outputs": [
    {
     "data": {
      "text/html": [
       "<div>\n",
       "<table border=\"1\" class=\"dataframe\">\n",
       "  <thead>\n",
       "    <tr style=\"text-align: right;\">\n",
       "      <th></th>\n",
       "      <th>ID</th>\n",
       "      <th>Store</th>\n",
       "    </tr>\n",
       "  </thead>\n",
       "  <tbody>\n",
       "    <tr>\n",
       "      <th>0</th>\n",
       "      <td>80002</td>\n",
       "      <td>Target</td>\n",
       "    </tr>\n",
       "    <tr>\n",
       "      <th>1</th>\n",
       "      <td>80002</td>\n",
       "      <td>Home Depot</td>\n",
       "    </tr>\n",
       "    <tr>\n",
       "      <th>2</th>\n",
       "      <td>80010</td>\n",
       "      <td>Levi's</td>\n",
       "    </tr>\n",
       "    <tr>\n",
       "      <th>3</th>\n",
       "      <td>80010</td>\n",
       "      <td>Puma</td>\n",
       "    </tr>\n",
       "    <tr>\n",
       "      <th>4</th>\n",
       "      <td>80010</td>\n",
       "      <td>Cuisinart</td>\n",
       "    </tr>\n",
       "  </tbody>\n",
       "</table>\n",
       "</div>"
      ],
      "text/plain": [
       "      ID       Store\n",
       "0  80002      Target\n",
       "1  80002  Home Depot\n",
       "2  80010      Levi's\n",
       "3  80010        Puma\n",
       "4  80010   Cuisinart"
      ]
     },
     "execution_count": 21,
     "metadata": {},
     "output_type": "execute_result"
    }
   ],
   "source": [
    "#read in brands data\n",
    "user_brands = pd.read_csv('../data/user_brand.csv')\n",
    "user_brands.head(5)"
   ]
  },
  {
   "cell_type": "code",
   "execution_count": 22,
   "metadata": {
    "collapsed": false
   },
   "outputs": [
    {
     "data": {
      "text/plain": [
       "Target                        1866\n",
       "Old Navy                      1200\n",
       "Home Depot                    1186\n",
       "Kohl's                        1157\n",
       "Banana Republic                932\n",
       "Nordstrom                      904\n",
       "Gap                            860\n",
       "Crate & Barrel                 816\n",
       "Express                        785\n",
       "KitchenAid                     700\n",
       "J.Crew                         569\n",
       "Container Store                564\n",
       "Steve Madden                   539\n",
       "Guess                          509\n",
       "Cuisinart                      506\n",
       "Nine West                      489\n",
       "Calvin Klein                   476\n",
       "Levi's                         472\n",
       "Converse                       456\n",
       "New Balance                    438\n",
       "BCBGMAXAZRIA                   429\n",
       "Restoration Hardware           410\n",
       "Lacoste                        405\n",
       "Kenneth Cole                   366\n",
       "Kate Spade                     354\n",
       "Puma                           350\n",
       "Melissa & Doug                 335\n",
       "DKNY                           328\n",
       "Last Call by Neiman Marcus     308\n",
       "Crocs                          293\n",
       "                              ... \n",
       "UNIQLO                           1\n",
       "Janie and Jack                   1\n",
       "Billionaire Boys Club            1\n",
       "Discovery Channel Store          1\n",
       "Barneys                          1\n",
       "Keds                             1\n",
       "Black Diamond                    1\n",
       "Lord & Taylor                    1\n",
       "Boden                            1\n",
       "Vince Camuto                     1\n",
       "Crate and Barrel                 1\n",
       "Bloomingdale's                   1\n",
       "Amazon.com                       1\n",
       "Grand                            1\n",
       "ZOO                              1\n",
       "Joseph Abboud                    1\n",
       "Hugo Boss                        1\n",
       "Chanel                           1\n",
       "Sky                              1\n",
       "Gymboree                         1\n",
       "Marmot                           1\n",
       "Stride Rite                      1\n",
       "Oakley                           1\n",
       "DC                               1\n",
       "J Jill                           1\n",
       "Carter                           1\n",
       "Brooks Brothers                  1\n",
       "David Tutera                     1\n",
       "Barneys Warehouse                1\n",
       "Walk-Over                        1\n",
       "Name: Store, dtype: int64"
      ]
     },
     "execution_count": 22,
     "metadata": {},
     "output_type": "execute_result"
    }
   ],
   "source": [
    "#look at count of stores\n",
    "user_brands.Store.value_counts()"
   ]
  },
  {
   "cell_type": "code",
   "execution_count": 23,
   "metadata": {
    "collapsed": true
   },
   "outputs": [],
   "source": [
    "# Series of user IDs, note the duplicates\n",
    "user_ids = user_brands.ID"
   ]
  },
  {
   "cell_type": "code",
   "execution_count": 24,
   "metadata": {
    "collapsed": false
   },
   "outputs": [
    {
     "data": {
      "text/plain": [
       "0        80002\n",
       "1        80002\n",
       "2        80010\n",
       "3        80010\n",
       "4        80010\n",
       "5        80010\n",
       "6        80010\n",
       "7        80010\n",
       "8        80010\n",
       "9        80010\n",
       "10       80010\n",
       "11       80010\n",
       "12       80011\n",
       "13       80011\n",
       "14       80011\n",
       "15       80011\n",
       "16       80011\n",
       "17       80011\n",
       "18       80011\n",
       "19       80011\n",
       "20       80011\n",
       "21       80011\n",
       "22       80011\n",
       "23       80011\n",
       "24       80011\n",
       "25       80011\n",
       "26       80015\n",
       "27       80015\n",
       "28       80015\n",
       "29       80015\n",
       "         ...  \n",
       "23774    91924\n",
       "23775    91927\n",
       "23776    91927\n",
       "23777    91931\n",
       "23778    91931\n",
       "23779    91931\n",
       "23780    91931\n",
       "23781    91943\n",
       "23782    91943\n",
       "23783    91943\n",
       "23784    91944\n",
       "23785    91944\n",
       "23786    91944\n",
       "23787    91944\n",
       "23788    91944\n",
       "23789    91944\n",
       "23790    91944\n",
       "23791    91944\n",
       "23792    91944\n",
       "23793    91944\n",
       "23794    91946\n",
       "23795    91946\n",
       "23796    91946\n",
       "23797    91946\n",
       "23798    91955\n",
       "23799    91957\n",
       "23800    91957\n",
       "23801    91957\n",
       "23802    91957\n",
       "23803    91957\n",
       "Name: ID, dtype: int64"
      ]
     },
     "execution_count": 24,
     "metadata": {},
     "output_type": "execute_result"
    }
   ],
   "source": [
    "user_ids"
   ]
  },
  {
   "cell_type": "code",
   "execution_count": 29,
   "metadata": {
    "collapsed": false
   },
   "outputs": [],
   "source": [
    "# groupby ID to see what each user likes!\n",
    "brandsfor = user_brands.groupby('ID').Store.value_counts()\n",
    "\n"
   ]
  },
  {
   "cell_type": "code",
   "execution_count": 30,
   "metadata": {
    "collapsed": false
   },
   "outputs": [],
   "source": [
    "# turn the data frame into a dictionary\n",
    "# where the key is a user ID, and the value is a \n",
    "# list of stores that the user \"likes\"\n",
    "brandsfor = {str(k): list(v) for k,v in user_brands.groupby('ID')[\"Store\"]}"
   ]
  },
  {
   "cell_type": "code",
   "execution_count": null,
   "metadata": {
    "collapsed": false
   },
   "outputs": [],
   "source": [
    "# try it out. User 83065 likes Kohl's and Targe\n"
   ]
  },
  {
   "cell_type": "code",
   "execution_count": null,
   "metadata": {
    "collapsed": false
   },
   "outputs": [],
   "source": [
    "# User 82983 likes many more!"
   ]
  },
  {
   "cell_type": "code",
   "execution_count": null,
   "metadata": {
    "collapsed": true
   },
   "outputs": [],
   "source": [
    "########################\n",
    "## Jaccard Similarity ##\n",
    "########################"
   ]
  },
  {
   "cell_type": "code",
   "execution_count": null,
   "metadata": {
    "collapsed": false
   },
   "outputs": [],
   "source": [
    "#\n",
    "#The Jaccard Similarity allows us to compare two sets\n",
    "#If we regard people as merely being a set of brands they prefer\n",
    "#the Jaccard Similarity allows us to compare people\n",
    "#\n",
    "#Example. the jaccard similarty between user 82983 and 83065 is .125\n",
    "#            because\n",
    "#             brandsfor['83065'] == [\"Kohl's\", 'Target']\n",
    "#             brandsfor['82983'] == ['Hanky Panky', 'Betsey Johnson', 'Converse', 'Steve Madden', 'Old Navy', 'Target', 'Nordstrom']\n",
    "\n",
    "# the intersection of these two sets is just set(\"Target\")\n",
    "# the union of the two sets is set(['Target', 'Hanky Panky', 'Betsey Johnson', 'Converse', 'Steve Madden', 'Old Navy', 'Target', 'Nordstrom'])\n",
    "# so the len(intersection) / len(union) = 1 / 8 == .125\n",
    "\n",
    "# EXERCISE: what is the Jaccard Similarity \n",
    "#           between user 82956 and user 82963?\n",
    "# "
   ]
  },
  {
   "cell_type": "code",
   "execution_count": null,
   "metadata": {
    "collapsed": true
   },
   "outputs": [],
   "source": [
    "# ANSWER HERE"
   ]
  },
  {
   "cell_type": "code",
   "execution_count": null,
   "metadata": {
    "collapsed": true
   },
   "outputs": [],
   "source": [
    "# '''\n",
    "# EXERCISE: Complete the jaccard method below.\n",
    "#           It should take in a list of brands, and output the \n",
    "#           jaccard similarity between them\n",
    "\n",
    "# This should work with anything in the set, for example\n",
    "# jaccard([1,2,3], [2,3,4,5,6])  == .3333333\n",
    "\n",
    "# HINT: set1 & set2 is the intersection\n",
    "#       set1 | set2 is the union\n",
    "\n",
    "# '''"
   ]
  },
  {
   "cell_type": "code",
   "execution_count": 33,
   "metadata": {
    "collapsed": false
   },
   "outputs": [],
   "source": [
    "def jaccard(first, second):\n",
    "    first = set(first)\n",
    "    second = set(second)\n",
    "    return float(len(first.intersection(second)))/len(first.union(second))  \n"
   ]
  },
  {
   "cell_type": "code",
   "execution_count": 34,
   "metadata": {
    "collapsed": false
   },
   "outputs": [
    {
     "data": {
      "text/plain": [
       "0.3333333333333333"
      ]
     },
     "execution_count": 34,
     "metadata": {},
     "output_type": "execute_result"
    }
   ],
   "source": [
    "# try it out!\n",
    "brandsfor['83065'] # brands for user 83065\n",
    "brandsfor['82983'] # brands for user 82983\n",
    "jaccard(brandsfor['83065'], brandsfor['82983'])\n",
    "jaccard(brandsfor['82956'], brandsfor['82963'])"
   ]
  },
  {
   "cell_type": "code",
   "execution_count": null,
   "metadata": {
    "collapsed": true
   },
   "outputs": [],
   "source": [
    "#######################\n",
    "### Our Recommender ###\n",
    "#######################\n"
   ]
  },
  {
   "cell_type": "code",
   "execution_count": null,
   "metadata": {
    "collapsed": true
   },
   "outputs": [],
   "source": [
    "# '''\n",
    "# Our recommender will be a modified KNN collaborative algorithm.\n",
    "# Input: A given user's brands that they like\n",
    "# Output: A set (no repeats) of brand recommendations based on\n",
    "#         similar users preferences\n",
    "\n",
    "# 1. When a user's brands are given to us, we will calculate the input user's\n",
    "# jaccard similarity with every person in our brandsfor dictionary\n",
    "\n",
    "# 2. We will pick the K most similar users and recommend\n",
    "# the brands that they like that the given user doesn't know about\n",
    "\n",
    "# EXAMPLE:\n",
    "# Given User likes ['Target', 'Old Navy', 'Banana Republic', 'H&M']\n",
    "# Outputs: ['Forever 21', 'Gap', 'Steve Madden']\n",
    "# '''"
   ]
  },
  {
   "cell_type": "code",
   "execution_count": 36,
   "metadata": {
    "collapsed": true
   },
   "outputs": [],
   "source": [
    "given_user = ['Target', 'Old Navy', 'Banana Republic', 'H&M']"
   ]
  },
  {
   "cell_type": "code",
   "execution_count": 37,
   "metadata": {
    "collapsed": false
   },
   "outputs": [
    {
     "data": {
      "text/plain": [
       "0.2"
      ]
     },
     "execution_count": 37,
     "metadata": {},
     "output_type": "execute_result"
    }
   ],
   "source": [
    "#similarty between user 83065 and given user\n",
    "brandsfor['83065']\n",
    "jaccard(brandsfor['83065'], given_user) \n",
    "# should be 0.2"
   ]
  },
  {
   "cell_type": "code",
   "execution_count": null,
   "metadata": {
    "collapsed": true
   },
   "outputs": [],
   "source": [
    "# '''\n",
    "# EXERCISE\n",
    "#     Find the similarty between given_user and ALL of our users\n",
    "#     output should be a dictionary where\n",
    "#     the key is a user id and the value is the jaccard similarity\n",
    "# {...\n",
    "#  '83055': 0.25,\n",
    "#  '83056': 0.0,\n",
    "#  '83058': 0.1111111111111111,\n",
    "#  '83060': 0.07894736842105263,\n",
    "#  '83061': 0.4,\n",
    "#  '83064': 0.25,\n",
    "#  '83065': 0.2,\n",
    "#  ...}\n",
    "# '''"
   ]
  },
  {
   "cell_type": "code",
   "execution_count": 38,
   "metadata": {
    "collapsed": false
   },
   "outputs": [],
   "source": [
    "# ANSWER HEREEEEEE\n",
    "similarities = {k:jaccard(given_user, v) for k, v in brandsfor.iteritems()}"
   ]
  },
  {
   "cell_type": "code",
   "execution_count": 39,
   "metadata": {
    "collapsed": true
   },
   "outputs": [],
   "source": [
    "K = 5 #number of similar users to look at\n"
   ]
  },
  {
   "cell_type": "code",
   "execution_count": 40,
   "metadata": {
    "collapsed": true
   },
   "outputs": [],
   "source": [
    "# Now for the top K most similar users, let's aggregate the brands they like.\n",
    "# I sort by the jaccard similarty so most similar users are first\n",
    "# I use the sorted method, but because I'm dorting dictionaries\n",
    "# I specify the \"key\" as the value of the dictionary\n",
    "# the key is what the list should sort on\n",
    "# so the most similar users end up being on top\n",
    "# ANSWER HEREEEEEE"
   ]
  },
  {
   "cell_type": "code",
   "execution_count": 41,
   "metadata": {
    "collapsed": false
   },
   "outputs": [
    {
     "ename": "NameError",
     "evalue": "name 'most_similar_users' is not defined",
     "output_type": "error",
     "traceback": [
      "\u001b[0;31m---------------------------------------------------------------------------\u001b[0m",
      "\u001b[0;31mNameError\u001b[0m                                 Traceback (most recent call last)",
      "\u001b[0;32m<ipython-input-41-16eeba461ac7>\u001b[0m in \u001b[0;36m<module>\u001b[0;34m()\u001b[0m\n\u001b[1;32m      1\u001b[0m \u001b[0;31m# list of K similar users' IDs\u001b[0m\u001b[0;34m\u001b[0m\u001b[0;34m\u001b[0m\u001b[0m\n\u001b[0;32m----> 2\u001b[0;31m \u001b[0mmost_similar_users\u001b[0m\u001b[0;34m\u001b[0m\u001b[0m\n\u001b[0m",
      "\u001b[0;31mNameError\u001b[0m: name 'most_similar_users' is not defined"
     ]
    }
   ],
   "source": [
    "# list of K similar users' IDs\n",
    "most_similar_users"
   ]
  },
  {
   "cell_type": "code",
   "execution_count": 42,
   "metadata": {
    "collapsed": false
   },
   "outputs": [
    {
     "ename": "NameError",
     "evalue": "name 'most_similar_users' is not defined",
     "output_type": "error",
     "traceback": [
      "\u001b[0;31m---------------------------------------------------------------------------\u001b[0m",
      "\u001b[0;31mNameError\u001b[0m                                 Traceback (most recent call last)",
      "\u001b[0;32m<ipython-input-42-b8cbe020a01f>\u001b[0m in \u001b[0;36m<module>\u001b[0;34m()\u001b[0m\n\u001b[1;32m      1\u001b[0m \u001b[0;31m# let's see what some of the most similar users likes\u001b[0m\u001b[0;34m\u001b[0m\u001b[0;34m\u001b[0m\u001b[0m\n\u001b[0;32m----> 2\u001b[0;31m \u001b[0mbrandsfor\u001b[0m\u001b[0;34m[\u001b[0m\u001b[0mmost_similar_users\u001b[0m\u001b[0;34m[\u001b[0m\u001b[0;36m0\u001b[0m\u001b[0;34m]\u001b[0m\u001b[0;34m]\u001b[0m\u001b[0;34m\u001b[0m\u001b[0m\n\u001b[0m",
      "\u001b[0;31mNameError\u001b[0m: name 'most_similar_users' is not defined"
     ]
    }
   ],
   "source": [
    "# let's see what some of the most similar users likes\n",
    "brandsfor[most_similar_users[0]]"
   ]
  },
  {
   "cell_type": "code",
   "execution_count": null,
   "metadata": {
    "collapsed": false
   },
   "outputs": [],
   "source": [
    "brandsfor[most_similar_users[3]]"
   ]
  },
  {
   "cell_type": "code",
   "execution_count": null,
   "metadata": {
    "collapsed": false
   },
   "outputs": [],
   "source": [
    "# Aggregate all brands liked by the K most similar users into a single set\n",
    "brands_to_recommend = set()\n",
    "for user in most_similar_users:\n",
    "    # for each user\n",
    "    # ANSWER HEREEEEEE\n",
    "    # add to the set of brands_to_recommend"
   ]
  },
  {
   "cell_type": "code",
   "execution_count": null,
   "metadata": {
    "collapsed": false
   },
   "outputs": [],
   "source": [
    "brands_to_recommend\n",
    "# UH OH WE HAVE DUPLICATES. Banana Republic, Old Navy, Target are all repeats.\n"
   ]
  },
  {
   "cell_type": "code",
   "execution_count": null,
   "metadata": {
    "collapsed": true
   },
   "outputs": [],
   "source": [
    "# EXERCISE: use a set difference so brands_to_recommend only has\n",
    "# brands that given_user hasn't seen yet"
   ]
  },
  {
   "cell_type": "code",
   "execution_count": null,
   "metadata": {
    "collapsed": true
   },
   "outputs": [],
   "source": [
    "# ANSWER HEREEEEEE"
   ]
  },
  {
   "cell_type": "code",
   "execution_count": null,
   "metadata": {
    "collapsed": false
   },
   "outputs": [],
   "source": [
    "# without duplicates\n",
    "brands_to_recommend"
   ]
  },
  {
   "cell_type": "code",
   "execution_count": null,
   "metadata": {
    "collapsed": true
   },
   "outputs": [],
   "source": [
    "######################\n",
    "## One Step Further ##\n",
    "######################"
   ]
  },
  {
   "cell_type": "code",
   "execution_count": null,
   "metadata": {
    "collapsed": false
   },
   "outputs": [],
   "source": [
    "# We can take this one step further and caculate a \"score\" of recommendation\n",
    "# We will define the score as being the number of times\n",
    "# a brand appears within the first K users\n",
    "brands_to_recommend = []\n",
    "for user in most_similar_users:\n",
    "    pass"
   ]
  },
  {
   "cell_type": "code",
   "execution_count": null,
   "metadata": {
    "collapsed": true
   },
   "outputs": [],
   "source": [
    "# Use a counter to count the number of times a brand \n",
    "# appears in brands_to_recommend\n",
    "# assign it to the variable recommend_with_scores"
   ]
  },
  {
   "cell_type": "code",
   "execution_count": null,
   "metadata": {
    "collapsed": false
   },
   "outputs": [],
   "source": [
    "# Now we see Gap has the highest score!\n",
    "recommend_with_scores"
   ]
  },
  {
   "cell_type": "code",
   "execution_count": null,
   "metadata": {
    "collapsed": true
   },
   "outputs": [],
   "source": [
    "#################################\n",
    "#### Collaborative Item based ###\n",
    "#################################"
   ]
  },
  {
   "cell_type": "code",
   "execution_count": null,
   "metadata": {
    "collapsed": true
   },
   "outputs": [],
   "source": [
    "# '''\n",
    "# We can also define a similary between items using jaccard similarity.\n",
    "# We can say that the similarity between two items is the jaccard similarity\n",
    "# between the sets of people who like the two brands.\n",
    "\n",
    "# Example: similarity of Gap to Target is:\n",
    "# '''"
   ]
  },
  {
   "cell_type": "code",
   "execution_count": null,
   "metadata": {
    "collapsed": true
   },
   "outputs": [],
   "source": [
    "# filter users by liking Gap\n",
    "gap_lovers = set(user_brands['Gap' == user_brands.Store].ID)\n",
    "old_navy_lovers = set(user_brands['Old Navy' == user_brands.Store].ID)\n"
   ]
  },
  {
   "cell_type": "code",
   "execution_count": null,
   "metadata": {
    "collapsed": true
   },
   "outputs": [],
   "source": [
    "# similarty between Gap and Old Navy\n",
    "jaccard(gap_lovers, old_navy_lovers)"
   ]
  },
  {
   "cell_type": "code",
   "execution_count": null,
   "metadata": {
    "collapsed": true
   },
   "outputs": [],
   "source": [
    "guess_lovers = set(user_brands['Guess' == user_brands.Store].ID)\n",
    "# similarty between Gap andGuess\n",
    "jaccard(guess_lovers, gap_lovers)"
   ]
  },
  {
   "cell_type": "code",
   "execution_count": null,
   "metadata": {
    "collapsed": true
   },
   "outputs": [],
   "source": [
    "calvin_lovers = set(user_brands['Calvin Klein' == user_brands.Store].ID)\n",
    "# similarty between Gap and Calvin Klein\n",
    "jaccard(calvin_lovers, gap_lovers)"
   ]
  },
  {
   "cell_type": "code",
   "execution_count": null,
   "metadata": {
    "collapsed": true
   },
   "outputs": [],
   "source": []
  }
 ],
 "metadata": {
  "kernelspec": {
   "display_name": "Python 2",
   "language": "python",
   "name": "python2"
  },
  "language_info": {
   "codemirror_mode": {
    "name": "ipython",
    "version": 2
   },
   "file_extension": ".py",
   "mimetype": "text/x-python",
   "name": "python",
   "nbconvert_exporter": "python",
   "pygments_lexer": "ipython2",
   "version": "2.7.11"
  }
 },
 "nbformat": 4,
 "nbformat_minor": 0
}
